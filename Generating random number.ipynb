{
 "cells": [
  {
   "cell_type": "markdown",
   "id": "8b7177c2",
   "metadata": {},
   "source": [
    "- We will use a method called a linear congruential generator, which was popular in the old days of pseudo-random generation.\n",
    "\n",
    "- The output of our program will take the form of a simple Uniform Distribution)."
   ]
  },
  {
   "cell_type": "code",
   "execution_count": 1,
   "id": "f268923d",
   "metadata": {},
   "outputs": [],
   "source": [
    "import numpy as np\n",
    "import matplotlib.pyplot as plt\n",
    "from collections import Counter\n",
    "import time\n",
    "def pseudo_uniform_good(mult=16807,\n",
    "                        mod=(2**31)-1,\n",
    "                        seed=123456789,\n",
    "                        size=1):\n",
    "    U = np.zeros(size)\n",
    "    x = (seed*mult+1)%mod\n",
    "    U[0] = x/mod\n",
    "    for i in range(1,size):\n",
    "        x = (x*mult+1)%mod\n",
    "        U[i] = x/mod\n",
    "    return U"
   ]
  },
  {
   "cell_type": "markdown",
   "id": "7b18f507",
   "metadata": {},
   "source": [
    " if we generate 10,000 random numbers and plot their histogram, it looks like following."
   ]
  },
  {
   "cell_type": "code",
   "execution_count": 2,
   "id": "06f1e6de",
   "metadata": {},
   "outputs": [
    {
     "data": {
      "image/png": "[encoded data removed]",
      "text/plain": [
       "<Figure size 432x288 with 1 Axes>"
      ]
     },
     "metadata": {
      "needs_background": "light"
     },
     "output_type": "display_data"
    }
   ],
   "source": [
    "l=pseudo_uniform_good(size=10000)\n",
    "plt.hist(l,bins=20,edgecolor='k')\n",
    "plt.xticks(fontsize=15)\n",
    "plt.yticks(fontsize=15)\n",
    "plt.show()"
   ]
  },
  {
   "cell_type": "code",
   "execution_count": 3,
   "id": "90b20c3f",
   "metadata": {},
   "outputs": [
    {
     "data": {
      "text/plain": [
       "array([0.29956189])"
      ]
     },
     "execution_count": 3,
     "metadata": {},
     "output_type": "execute_result"
    }
   ],
   "source": [
    "pseudo_uniform_good(40) "
   ]
  },
  {
   "cell_type": "code",
   "execution_count": 4,
   "id": "67a67675",
   "metadata": {},
   "outputs": [],
   "source": [
    "def generate_random(low=0,high=1, seed=123456789, size=1):\n",
    "#Generates uniformly random number between 'low' and 'high' limits\n",
    "    return low+(high-low) *pseudo_uniform_good(seed=seed, size=size)"
   ]
  },
  {
   "cell_type": "code",
   "execution_count": 5,
   "id": "d9d05493",
   "metadata": {},
   "outputs": [
    {
     "data": {
      "text/plain": [
       "array([7816.0354437])"
      ]
     },
     "execution_count": 5,
     "metadata": {},
     "output_type": "execute_result"
    }
   ],
   "source": [
    "generate_random(10000)"
   ]
  },
  {
   "cell_type": "markdown",
   "id": "bd92dd17",
   "metadata": {},
   "source": [
    "Estimationg the value of pi using the generated number.\n",
    "\n",
    "\n",
    "formula : pie * 4 = no of points inside the circle / no of points inside the square.\n",
    "\n",
    "1. Initialize circle_points, square_points \n",
    "2. Generate random point x. \n",
    "3. Generate random point y. \n",
    "4. Calculate d = x*x + y*y. \n",
    "5. If distance is  <= 1, increment circle_points. \n",
    "6. Increment square_points. \n",
    "7. Calculate pi = 4*(circle_points/square_points). "
   ]
  },
  {
   "cell_type": "code",
   "execution_count": 12,
   "id": "d21ec51a",
   "metadata": {},
   "outputs": [],
   "source": [
    "def pi_estimator(samples):\n",
    "    points_inside_circle= 0\n",
    "    square_points = 0\n",
    "    X,Y = pseudo_uniform_good(size=2*samples).reshape(2,-1)\n",
    "\n",
    "    for x,y in zip(X,Y):\n",
    "        distance = x**2 + y**2     # Distance between (x, y) from the origin\n",
    "\n",
    "        if distance <= 1:\n",
    "            points_inside_circle +=1\n",
    "        square_points += 1\n",
    "        \n",
    "        # Estimating value of pi,\n",
    "    # pi= 4*(no. of points generated inside the \n",
    "    # circle)/ (no. of points generated inside the square)\n",
    "    return 4* points_inside_circle/square_points"
   ]
  },
  {
   "cell_type": "code",
   "execution_count": 13,
   "id": "0c596bc3",
   "metadata": {},
   "outputs": [
    {
     "data": {
      "text/plain": [
       "3.1407616"
      ]
     },
     "execution_count": 13,
     "metadata": {},
     "output_type": "execute_result"
    }
   ],
   "source": [
    "pi_estimator(5**7)"
   ]
  },
  {
   "cell_type": "code",
   "execution_count": null,
   "id": "ce8f3276",
   "metadata": {},
   "outputs": [],
   "source": []
  }
 ],
 "metadata": {
  "kernelspec": {
   "display_name": "Python 3 (ipykernel)",
   "language": "python",
   "name": "python3"
  },
  "language_info": {
   "codemirror_mode": {
    "name": "ipython",
    "version": 3
   },
   "file_extension": ".py",
   "mimetype": "text/x-python",
   "name": "python",
   "nbconvert_exporter": "python",
   "pygments_lexer": "ipython3",
   "version": "3.8.11"
  }
 },
 "nbformat": 4,
 "nbformat_minor": 5
}
